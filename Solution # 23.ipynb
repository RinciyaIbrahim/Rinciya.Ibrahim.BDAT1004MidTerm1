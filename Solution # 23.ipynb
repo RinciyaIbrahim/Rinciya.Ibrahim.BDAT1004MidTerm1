{
 "cells": [
  {
   "cell_type": "markdown",
   "id": "ab2e63e0-f0d7-40c8-825f-02d427afe622",
   "metadata": {},
   "source": [
    "## Question 21\n",
    "\n",
    "In a jupyter notebook solve the following question. Please upload the notebook to GitHub and provide the link submission box below.\r\n",
    " \r\n",
    "\r\n",
    "__int()__: Constructor that takes as input a pair of Point objects that represent the ends points of the line segment\r\n",
    "\r\n",
    "Length():: returns the length if the segment \r\n",
    "\r\n",
    "Slope() returns the slope of the segment of none if the slope is unbounded \r\n",
    "\r\n",
    " \r\n",
    "\r\n",
    ">>> p1 = Point(3,4)\r\n",
    "\r\n",
    ">>> p2 = Point()\r\n",
    "\r\n",
    ">>> s = Segment(p1,p2)\r\n",
    "\r\n",
    ">>> s.length()\r\n",
    "\r\n",
    "5.0\r\n",
    "\r\n",
    ">>> s.slope()\r\n",
    "\r\n",
    "0.75"
   ]
  },
  {
   "cell_type": "code",
   "execution_count": 24,
   "id": "ab879227-b915-4cce-a2b5-92aac1cad07c",
   "metadata": {},
   "outputs": [
    {
     "name": "stdout",
     "output_type": "stream",
     "text": [
      "5.0\n",
      "1.3333333333333333\n"
     ]
    }
   ],
   "source": [
    "import math  # Import the math module\n",
    "\n",
    "class Point:\n",
    "    # This class represents a point \n",
    "    def __init__(self, XVal=0, YVal=0):\n",
    "        self.XVal = XVal  # Set the x coordinate\n",
    "        self.YVal = YVal  # Set the y coordinate\n",
    "\n",
    "class Segment:\n",
    "    # This class represents a line segment \n",
    "    def __init__(self, StartPoint, EndPoint):\n",
    "        self.StartPoint = StartPoint  # Starting point of the segment\n",
    "        self.EndPoint = EndPoint  # Ending point of the segment\n",
    "\n",
    "    def length(self):\n",
    "        # Calculate the length of the line segment \n",
    "        return math.sqrt((self.EndPoint.XVal - self.StartPoint.XVal) ** 2 + \n",
    "                         (self.EndPoint.YVal - self.StartPoint.YVal) ** 2)\n",
    "\n",
    "    def slope(self):\n",
    "        # Calculate the slope of the line segment\n",
    "        # If the line is vertical (x values are the same), the slope is unbounded (None)\n",
    "        if self.EndPoint.XVal - self.StartPoint.XVal == 0:\n",
    "            return None  # No slope\n",
    "        # Slope formula: (change in y) / (change in x)\n",
    "        return (self.EndPoint.YVal - self.StartPoint.YVal) / (self.EndPoint.XVal - self.StartPoint.XVal)\n",
    "\n",
    "# Testing the given input\n",
    "p1 = Point(3, 4)  # Create a point at (3, 4)\n",
    "p2 = Point(0, 0)  # Create a point at (0, 0)\n",
    "s = Segment(p1, p2)  # Create a line segment from PointA to PointB\n",
    "\n",
    "print(s.length())  # Calculate and print length of the segment\n",
    "print(s.slope())  # Calculate and print slope of the segment\n",
    "\n",
    " \n"
   ]
  },
  {
   "cell_type": "code",
   "execution_count": null,
   "id": "86a53bd6-cb36-4226-816d-33946d58ebfd",
   "metadata": {},
   "outputs": [],
   "source": []
  }
 ],
 "metadata": {
  "kernelspec": {
   "display_name": "Python 3 (ipykernel)",
   "language": "python",
   "name": "python3"
  },
  "language_info": {
   "codemirror_mode": {
    "name": "ipython",
    "version": 3
   },
   "file_extension": ".py",
   "mimetype": "text/x-python",
   "name": "python",
   "nbconvert_exporter": "python",
   "pygments_lexer": "ipython3",
   "version": "3.12.4"
  }
 },
 "nbformat": 4,
 "nbformat_minor": 5
}
