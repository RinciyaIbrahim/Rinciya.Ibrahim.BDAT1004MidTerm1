{
 "cells": [
  {
   "cell_type": "markdown",
   "id": "ab2e63e0-f0d7-40c8-825f-02d427afe622",
   "metadata": {},
   "source": [
    "## Question 21\n",
    "\n",
    "In a jupyter notebook solve the following question. Please upload the notebook to GitHub and provide the link submission box below.\r\n",
    " \r\n",
    "\r\n",
    "__int()__: Constructor that takes as input a pair of Point objects that represent the ends points of the line segment\r\n",
    "\r\n",
    "Length():: returns the length if the segment \r\n",
    "\r\n",
    "Slope() returns the slope of the segment of none if the slope is unbounded \r\n",
    "\r\n",
    " \r\n",
    "\r\n",
    ">>> p1 = Point(3,4)\r\n",
    "\r\n",
    ">>> p2 = Point()\r\n",
    "\r\n",
    ">>> s = Segment(p1,p2)\r\n",
    "\r\n",
    ">>> s.length()\r\n",
    "\r\n",
    "5.0\r\n",
    "\r\n",
    ">>> s.slope()\r\n",
    "\r\n",
    "0.75"
   ]
  },
  {
   "cell_type": "code",
   "execution_count": 5,
   "id": "48d666ae-fc40-4e85-b244-61d0c0226ad9",
   "metadata": {},
   "outputs": [
    {
     "name": "stdout",
     "output_type": "stream",
     "text": [
      "5.0\n",
      "1.3333333333333333\n"
     ]
    }
   ],
   "source": [
    "import math  # Import the math module\n",
    "\n",
    "class Coordinate:\n",
    "    # This class represents a point \n",
    "    def __init__(self, xVal=0, yVal=0):\n",
    "        self.xVal = xVal  #  x coordinate\n",
    "        self.yVal = yVal  #  y coordinate\n",
    "\n",
    "class LineSegment:\n",
    "    # This class represents a line segment \n",
    "    def __init__(self, startPoint, endPoint):\n",
    "        self.startPoint = startPoint  # Starting point of the segment\n",
    "        self.endPoint = endPoint  # Ending point of the segment\n",
    "\n",
    "    def calculate_length(self):\n",
    "        # Calculate the length of the line segment using the distance formula\n",
    "        return math.sqrt((self.endPoint.xVal - self.startPoint.xVal) ** 2 + \n",
    "                         (self.endPoint.yVal - self.startPoint.yVal) ** 2)\n",
    "\n",
    "    def calculate_slope(self):\n",
    "        # Calculate the slope of the line segment\n",
    "        # If the line is vertical (x values are the same), the slope is unbounded (None)\n",
    "        if self.endPoint.xVal - self.startPoint.xVal == 0:\n",
    "            return None  # No slope\n",
    "        # Slope formula: (change in y) / (change in x)\n",
    "        return (self.endPoint.yVal - self.startPoint.yVal) / (self.endPoint.xVal - self.startPoint.xVal)\n",
    "\n",
    "# Testing \n",
    "point_a = Coordinate(3, 4)  # Create a point at (3, 4)\n",
    "point_b = Coordinate(0, 0)  # Create a point at (0, 0)\n",
    "line_segment = LineSegment(point_a, point_b)  # Create a line segment from point_a to point_b\n",
    "\n",
    "print(line_segment.calculate_length())  # Calculate the length of the segment\n",
    "print(line_segment.calculate_slope())  # Calculate the slope of the segment\n"
   ]
  },
  {
   "cell_type": "code",
   "execution_count": null,
   "id": "fe38627e-a049-44ce-b8ec-2d4cd1b8ac0f",
   "metadata": {},
   "outputs": [],
   "source": []
  }
 ],
 "metadata": {
  "kernelspec": {
   "display_name": "Python 3 (ipykernel)",
   "language": "python",
   "name": "python3"
  },
  "language_info": {
   "codemirror_mode": {
    "name": "ipython",
    "version": 3
   },
   "file_extension": ".py",
   "mimetype": "text/x-python",
   "name": "python",
   "nbconvert_exporter": "python",
   "pygments_lexer": "ipython3",
   "version": "3.12.4"
  }
 },
 "nbformat": 4,
 "nbformat_minor": 5
}
