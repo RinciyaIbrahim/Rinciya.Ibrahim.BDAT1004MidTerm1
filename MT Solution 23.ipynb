{
 "cells": [
  {
   "cell_type": "code",
   "execution_count": 10,
   "id": "1fd5b02b-ef46-492e-ba79-13b8a91493d1",
   "metadata": {},
   "outputs": [
    {
     "name": "stdout",
     "output_type": "stream",
     "text": [
      ">>> f(0, 0)\n",
      "\n",
      ">>> f(0, 1)\n",
      "*\n",
      "\n",
      ">>> f(0, 2)\n",
      "*\n",
      "**\n",
      " *\n",
      "\n",
      ">>> f(0, 4)\n",
      "*\n",
      "**\n",
      " *\n",
      "****\n",
      "  *\n",
      "  **\n",
      "   *\n"
     ]
    }
   ],
   "source": [
    "def f(spaces, stars):\n",
    "    # Base case: if stars is 0, do nothing\n",
    "    if stars > 0:\n",
    "        # Recursive call to print the upper part of the pattern\n",
    "        f(spaces, stars // 2)\n",
    "        \n",
    "        # Print the current line with the appropriate indentation and number of stars\n",
    "        print(\" \" * spaces + \"*\" * stars)\n",
    "        \n",
    "        # Recursive call to print the lower part of the pattern with increased indentation\n",
    "        f(spaces + stars // 2, stars // 2)\n",
    "\n",
    "# Testing the function with examples from the image\n",
    "\n",
    "# Test case when stars is 0, no output is expected\n",
    "print(\">>> f(0, 0)\")\n",
    "f(0, 0)\n",
    "\n",
    "# Test case when stars is 1\n",
    "print(\"\\n>>> f(0, 1)\")\n",
    "f(0, 1)\n",
    "\n",
    "# Test case when stars is 2\n",
    "print(\"\\n>>> f(0, 2)\")\n",
    "f(0, 2)\n",
    "\n",
    "# Test case when stars is 4\n",
    "print(\"\\n>>> f(0, 4)\")\n",
    "f(0, 4)\n"
   ]
  },
  {
   "cell_type": "code",
   "execution_count": null,
   "id": "a520c98b-ea8f-407e-b3a6-ba211fe89fb4",
   "metadata": {},
   "outputs": [],
   "source": []
  }
 ],
 "metadata": {
  "kernelspec": {
   "display_name": "Python 3 (ipykernel)",
   "language": "python",
   "name": "python3"
  },
  "language_info": {
   "codemirror_mode": {
    "name": "ipython",
    "version": 3
   },
   "file_extension": ".py",
   "mimetype": "text/x-python",
   "name": "python",
   "nbconvert_exporter": "python",
   "pygments_lexer": "ipython3",
   "version": "3.12.4"
  }
 },
 "nbformat": 4,
 "nbformat_minor": 5
}
