{
 "cells": [
  {
   "cell_type": "markdown",
   "id": "ab2e63e0-f0d7-40c8-825f-02d427afe622",
   "metadata": {},
   "source": [
    "## Question 21\n",
    "\n",
    "In a jupyter notebook solve the following question. Please upload the notebook to GitHub and provide the link submission box below.\r\n",
    " \r\n",
    "\r\n",
    "__int()__: Constructor that takes as input a pair of Point objects that represent the ends points of the line segment\r\n",
    "\r\n",
    "Length():: returns the length if the segment \r\n",
    "\r\n",
    "Slope() returns the slope of the segment of none if the slope is unbounded \r\n",
    "\r\n",
    " \r\n",
    "\r\n",
    ">>> p1 = Point(3,4)\r\n",
    "\r\n",
    ">>> p2 = Point()\r\n",
    "\r\n",
    ">>> s = Segment(p1,p2)\r\n",
    "\r\n",
    ">>> s.length()\r\n",
    "\r\n",
    "5.0\r\n",
    "\r\n",
    ">>> s.slope()\r\n",
    "\r\n",
    "0.75"
   ]
  },
  {
   "cell_type": "code",
   "execution_count": null,
   "id": "ab879227-b915-4cce-a2b5-92aac1cad07c",
   "metadata": {},
   "outputs": [],
   "source": [
    "import math  # Import the math module\n",
    "\n",
    "class Coordinate:\n",
    "    # This class represents a point \n",
    "    def __init__(self, XVal=0, YVal=0):\n",
    "        self.XVal = XVal  # Set the x coordinate\n",
    "        self.YVal = YVal  # Set the y coordinate\n",
    "\n",
    "class LineSegment:\n",
    "    # This class represents a line segment \n",
    "    def __init__(self, StartPoint, EndPoint):\n",
    "        self.StartPoint = StartPoint  # Starting point of the segment\n",
    "        self.EndPoint = EndPoint  # Ending point of the segment\n",
    "\n",
    "    def CalculateLength(self):\n",
    "        # Calculate the length of the line segment using the distance formula\n",
    "        return math.sqrt((self.EndPoint.XVal - self.StartPoint.XVal) ** 2 + \n",
    "                         (self.EndPoint.YVal - self.StartPoint.YVal) ** 2)\n",
    "\n",
    "    def CalculateSlope(self):\n",
    "        # Calculate the slope of the line segment\n",
    "        # If the line is vertical (x values are the same), the slope is unbounded (None)\n",
    "        if self.EndPoint.XVal - self.StartPoint.XVal == 0:\n",
    "            return None  # No slope\n",
    "        # Slope formula: (change in y) / (change in x)\n",
    "        return (self.EndPoint.YVal - self.StartPoint.YVal) / (self.EndPoint.XVal - self.StartPoint.XVal)\n",
    "\n",
    "# Testing the implementation\n",
    "PointA = Coordinate(3, 4)  # Create a point at (3, 4)\n",
    "PointB = Coordinate(0, 0)  # Create a point at (0, 0)\n",
    "LineSegmentInstance = LineSegment(PointA, PointB)  # Create a line segment from PointA to PointB\n",
    "\n",
    "SegmentLength = LineSegmentInstance.CalculateLength()  # Calculate the length of the segment\n",
    "SegmentSlope = LineSegmentInstance.CalculateSlope()  # Calculate the slope of the segment\n",
    "\n",
    "# Print the results\n",
    "print(\"Segment Length:\", SegmentLength)  # Should output: 5.0\n",
    "print(\"Segment Slope:\", SegmentSlope)  # Should output: 1.3333333333333333 (or 4/3)\n"
   ]
  }
 ],
 "metadata": {
  "kernelspec": {
   "display_name": "Python 3 (ipykernel)",
   "language": "python",
   "name": "python3"
  },
  "language_info": {
   "codemirror_mode": {
    "name": "ipython",
    "version": 3
   },
   "file_extension": ".py",
   "mimetype": "text/x-python",
   "name": "python",
   "nbconvert_exporter": "python",
   "pygments_lexer": "ipython3",
   "version": "3.12.4"
  }
 },
 "nbformat": 4,
 "nbformat_minor": 5
}
